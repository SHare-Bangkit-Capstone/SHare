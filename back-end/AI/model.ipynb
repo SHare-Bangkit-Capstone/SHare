{
  "cells": [
    {
      "cell_type": "markdown",
      "metadata": {
        "id": "o_jbRqaFeU6C"
      },
      "source": [
        "# SHare\n",
        "\n",
        "Terdiri dari : \n",
        "*   Library yang digunakan\n",
        "*   List item\n",
        "*   Pembersihan data menggunakan Sastrawi\n",
        "*   Pembuatan Model\n",
        "*   Cek Plot\n",
        "*   Export model"
      ]
    },
    {
      "cell_type": "code",
      "execution_count": 1,
      "metadata": {
        "id": "8-JA2yfweU6H"
      },
      "outputs": [],
      "source": [
        "import pandas as pd\n",
        "import numpy as np\n",
        "import matplotlib.pyplot as plt\n",
        "import tensorflow as tf\n",
        "from sklearn.model_selection import train_test_split\n",
        "from keras.preprocessing.text import Tokenizer\n",
        "from keras.preprocessing.sequence import pad_sequences"
      ]
    },
    {
      "cell_type": "code",
      "execution_count": 3,
      "metadata": {
        "colab": {
          "base_uri": "https://localhost:8080/"
        },
        "id": "Lipy5YNTegll",
        "outputId": "99013df2-81ee-42a4-ec52-eae4c39d728d"
      },
      "outputs": [
        {
          "name": "stdout",
          "output_type": "stream",
          "text": [
            "Looking in indexes: https://pypi.org/simple, https://us-python.pkg.dev/colab-wheels/public/simple/\n",
            "Requirement already satisfied: sastrawi in /usr/local/lib/python3.7/dist-packages (1.0.1)\n"
          ]
        }
      ],
      "source": [
        "!pip install sastrawi"
      ]
    },
    {
      "cell_type": "markdown",
      "metadata": {
        "id": "XuPQAoKmeU6L"
      },
      "source": [
        "## Add CSV file and preprocessing data"
      ]
    },
    {
      "cell_type": "code",
      "execution_count": 4,
      "metadata": {
        "colab": {
          "base_uri": "https://localhost:8080/",
          "height": 206
        },
        "id": "iEAlsVIDeU6M",
        "outputId": "e51d6ab7-c8e5-404b-8bdc-37deb052bf57"
      },
      "outputs": [
        {
          "data": {
            "text/html": [
              "\n",
              "  <div id=\"df-b15883de-0d3c-4f3a-ac2b-27a7071aef4a\">\n",
              "    <div class=\"colab-df-container\">\n",
              "      <div>\n",
              "<style scoped>\n",
              "    .dataframe tbody tr th:only-of-type {\n",
              "        vertical-align: middle;\n",
              "    }\n",
              "\n",
              "    .dataframe tbody tr th {\n",
              "        vertical-align: top;\n",
              "    }\n",
              "\n",
              "    .dataframe thead th {\n",
              "        text-align: right;\n",
              "    }\n",
              "</style>\n",
              "<table border=\"1\" class=\"dataframe\">\n",
              "  <thead>\n",
              "    <tr style=\"text-align: right;\">\n",
              "      <th></th>\n",
              "      <th>text</th>\n",
              "      <th>pasal</th>\n",
              "    </tr>\n",
              "  </thead>\n",
              "  <tbody>\n",
              "    <tr>\n",
              "      <th>0</th>\n",
              "      <td>Pak A sering pegang pegang tangan, kadang pega...</td>\n",
              "      <td>1</td>\n",
              "    </tr>\n",
              "    <tr>\n",
              "      <th>1</th>\n",
              "      <td>lama lama dia tarik tanganku baru baring di pa...</td>\n",
              "      <td>1</td>\n",
              "    </tr>\n",
              "    <tr>\n",
              "      <th>2</th>\n",
              "      <td>pake jilbab syar'i dan gapernah sentuhan sama ...</td>\n",
              "      <td>0</td>\n",
              "    </tr>\n",
              "    <tr>\n",
              "      <th>3</th>\n",
              "      <td>saya ditarik\" hampir masuk di ruangannya dosen...</td>\n",
              "      <td>1</td>\n",
              "    </tr>\n",
              "    <tr>\n",
              "      <th>4</th>\n",
              "      <td>saat mengajar dia mendekati teman saya dengan ...</td>\n",
              "      <td>1</td>\n",
              "    </tr>\n",
              "  </tbody>\n",
              "</table>\n",
              "</div>\n",
              "      <button class=\"colab-df-convert\" onclick=\"convertToInteractive('df-b15883de-0d3c-4f3a-ac2b-27a7071aef4a')\"\n",
              "              title=\"Convert this dataframe to an interactive table.\"\n",
              "              style=\"display:none;\">\n",
              "        \n",
              "  <svg xmlns=\"http://www.w3.org/2000/svg\" height=\"24px\"viewBox=\"0 0 24 24\"\n",
              "       width=\"24px\">\n",
              "    <path d=\"M0 0h24v24H0V0z\" fill=\"none\"/>\n",
              "    <path d=\"M18.56 5.44l.94 2.06.94-2.06 2.06-.94-2.06-.94-.94-2.06-.94 2.06-2.06.94zm-11 1L8.5 8.5l.94-2.06 2.06-.94-2.06-.94L8.5 2.5l-.94 2.06-2.06.94zm10 10l.94 2.06.94-2.06 2.06-.94-2.06-.94-.94-2.06-.94 2.06-2.06.94z\"/><path d=\"M17.41 7.96l-1.37-1.37c-.4-.4-.92-.59-1.43-.59-.52 0-1.04.2-1.43.59L10.3 9.45l-7.72 7.72c-.78.78-.78 2.05 0 2.83L4 21.41c.39.39.9.59 1.41.59.51 0 1.02-.2 1.41-.59l7.78-7.78 2.81-2.81c.8-.78.8-2.07 0-2.86zM5.41 20L4 18.59l7.72-7.72 1.47 1.35L5.41 20z\"/>\n",
              "  </svg>\n",
              "      </button>\n",
              "      \n",
              "  <style>\n",
              "    .colab-df-container {\n",
              "      display:flex;\n",
              "      flex-wrap:wrap;\n",
              "      gap: 12px;\n",
              "    }\n",
              "\n",
              "    .colab-df-convert {\n",
              "      background-color: #E8F0FE;\n",
              "      border: none;\n",
              "      border-radius: 50%;\n",
              "      cursor: pointer;\n",
              "      display: none;\n",
              "      fill: #1967D2;\n",
              "      height: 32px;\n",
              "      padding: 0 0 0 0;\n",
              "      width: 32px;\n",
              "    }\n",
              "\n",
              "    .colab-df-convert:hover {\n",
              "      background-color: #E2EBFA;\n",
              "      box-shadow: 0px 1px 2px rgba(60, 64, 67, 0.3), 0px 1px 3px 1px rgba(60, 64, 67, 0.15);\n",
              "      fill: #174EA6;\n",
              "    }\n",
              "\n",
              "    [theme=dark] .colab-df-convert {\n",
              "      background-color: #3B4455;\n",
              "      fill: #D2E3FC;\n",
              "    }\n",
              "\n",
              "    [theme=dark] .colab-df-convert:hover {\n",
              "      background-color: #434B5C;\n",
              "      box-shadow: 0px 1px 3px 1px rgba(0, 0, 0, 0.15);\n",
              "      filter: drop-shadow(0px 1px 2px rgba(0, 0, 0, 0.3));\n",
              "      fill: #FFFFFF;\n",
              "    }\n",
              "  </style>\n",
              "\n",
              "      <script>\n",
              "        const buttonEl =\n",
              "          document.querySelector('#df-b15883de-0d3c-4f3a-ac2b-27a7071aef4a button.colab-df-convert');\n",
              "        buttonEl.style.display =\n",
              "          google.colab.kernel.accessAllowed ? 'block' : 'none';\n",
              "\n",
              "        async function convertToInteractive(key) {\n",
              "          const element = document.querySelector('#df-b15883de-0d3c-4f3a-ac2b-27a7071aef4a');\n",
              "          const dataTable =\n",
              "            await google.colab.kernel.invokeFunction('convertToInteractive',\n",
              "                                                     [key], {});\n",
              "          if (!dataTable) return;\n",
              "\n",
              "          const docLinkHtml = 'Like what you see? Visit the ' +\n",
              "            '<a target=\"_blank\" href=https://colab.research.google.com/notebooks/data_table.ipynb>data table notebook</a>'\n",
              "            + ' to learn more about interactive tables.';\n",
              "          element.innerHTML = '';\n",
              "          dataTable['output_type'] = 'display_data';\n",
              "          await google.colab.output.renderOutput(dataTable, element);\n",
              "          const docLink = document.createElement('div');\n",
              "          docLink.innerHTML = docLinkHtml;\n",
              "          element.appendChild(docLink);\n",
              "        }\n",
              "      </script>\n",
              "    </div>\n",
              "  </div>\n",
              "  "
            ],
            "text/plain": [
              "                                                text  pasal\n",
              "0  Pak A sering pegang pegang tangan, kadang pega...      1\n",
              "1  lama lama dia tarik tanganku baru baring di pa...      1\n",
              "2  pake jilbab syar'i dan gapernah sentuhan sama ...      0\n",
              "3  saya ditarik\" hampir masuk di ruangannya dosen...      1\n",
              "4  saat mengajar dia mendekati teman saya dengan ...      1"
            ]
          },
          "execution_count": 4,
          "metadata": {},
          "output_type": "execute_result"
        }
      ],
      "source": [
        "data = pd.read_csv('/content/Dataset.csv')\n",
        "data.head()"
      ]
    },
    {
      "cell_type": "markdown",
      "metadata": {
        "id": "8yztPPR_eU6N"
      },
      "source": [
        "Stem kata dan buang stopword yang dipake\n"
      ]
    },
    {
      "cell_type": "code",
      "execution_count": 5,
      "metadata": {
        "id": "XFpj57yEeU6N"
      },
      "outputs": [],
      "source": [
        "from Sastrawi.Stemmer.StemmerFactory import StemmerFactory\n",
        "from Sastrawi.StopWordRemover.StopWordRemoverFactory import StopWordRemoverFactory\n",
        "\n",
        "factory = StemmerFactory()\n",
        "stemmer_factory = factory.create_stemmer()\n",
        "factory = StopWordRemoverFactory()\n",
        "stopword_factory = factory.create_stop_word_remover()\n",
        "def preprocessing(word):\n",
        "    steaming = stemmer_factory.stem(word)\n",
        "    finish = stopword_factory.remove(steaming)\n",
        "    return finish\n",
        "\n",
        "data.text = data.text.map(preprocessing)\n"
      ]
    },
    {
      "cell_type": "markdown",
      "metadata": {
        "id": "2BUWeW5ieU6O"
      },
      "source": [
        "bagi text dan label"
      ]
    },
    {
      "cell_type": "code",
      "execution_count": 6,
      "metadata": {
        "colab": {
          "base_uri": "https://localhost:8080/"
        },
        "id": "fsw4zrQ5eU6P",
        "outputId": "cfa19bdd-f007-4b28-9b24-12416fca747f"
      },
      "outputs": [
        {
          "data": {
            "text/plain": [
              "(85, 85)"
            ]
          },
          "execution_count": 6,
          "metadata": {},
          "output_type": "execute_result"
        }
      ],
      "source": [
        "x = data['text']\n",
        "y = data['pasal']\n",
        "len(x), len(y)"
      ]
    },
    {
      "cell_type": "markdown",
      "metadata": {
        "id": "LQ0BHUADeU6W"
      },
      "source": [
        "## Menggunakan TF.Hub"
      ]
    },
    {
      "cell_type": "markdown",
      "metadata": {
        "id": "OdE6DG-weU6X"
      },
      "source": [
        "Add TF HUB \n",
        "<url>https://tfhub.dev/google/nnlm-id-dim128/2</url>"
      ]
    },
    {
      "cell_type": "code",
      "execution_count": 7,
      "metadata": {
        "id": "JdQyPiZCeU6X"
      },
      "outputs": [],
      "source": [
        "import tensorflow_hub as hub\n",
        "\n",
        "embed = hub.load(\"https://tfhub.dev/google/nnlm-id-dim128/2\")\n",
        "hub_layer = hub.KerasLayer(embed, input_shape=[], \n",
        "                           dtype=tf.string, trainable=True)"
      ]
    },
    {
      "cell_type": "code",
      "execution_count": 8,
      "metadata": {
        "id": "ErRbMnTrXj0q"
      },
      "outputs": [],
      "source": [
        "x = np.array(x)\n",
        "y = np.array(y)"
      ]
    },
    {
      "cell_type": "code",
      "execution_count": 9,
      "metadata": {
        "id": "JUre3vHBmWZd"
      },
      "outputs": [],
      "source": [
        "X_train, X_test, y_train, y_test = train_test_split(x, y, test_size=0.3, shuffle=True)"
      ]
    },
    {
      "cell_type": "code",
      "execution_count": 10,
      "metadata": {
        "colab": {
          "base_uri": "https://localhost:8080/"
        },
        "id": "HmNVdc0ReU6Y",
        "outputId": "2166b329-5f82-41ba-b656-6b3dc2c7bf45"
      },
      "outputs": [
        {
          "name": "stdout",
          "output_type": "stream",
          "text": [
            "Model: \"sequential\"\n",
            "_________________________________________________________________\n",
            " Layer (type)                Output Shape              Param #   \n",
            "=================================================================\n",
            " keras_layer (KerasLayer)    (None, 128)               112461824 \n",
            "                                                                 \n",
            " dense (Dense)               (None, 16)                2064      \n",
            "                                                                 \n",
            " dropout (Dropout)           (None, 16)                0         \n",
            "                                                                 \n",
            " dense_1 (Dense)             (None, 1)                 17        \n",
            "                                                                 \n",
            "=================================================================\n",
            "Total params: 112,463,905\n",
            "Trainable params: 112,463,905\n",
            "Non-trainable params: 0\n",
            "_________________________________________________________________\n"
          ]
        }
      ],
      "source": [
        "model = tf.keras.Sequential([hub_layer,\n",
        "                             tf.keras.layers.Dense(16, activation='relu'),\n",
        "                             tf.keras.layers.Dropout(0.5),\n",
        "                             tf.keras.layers.Dense(1, activation= 'sigmoid')\n",
        "])\n",
        "\n",
        "model.summary()"
      ]
    },
    {
      "cell_type": "code",
      "execution_count": 11,
      "metadata": {
        "id": "7iJ1s6wAiDJg"
      },
      "outputs": [],
      "source": [
        "opt = tf.keras.optimizers.SGD(learning_rate = 0.01)\n",
        "\n",
        "model.compile(optimizer=opt,\n",
        "              loss='binary_crossentropy',\n",
        "              metrics=['accuracy'])"
      ]
    },
    {
      "cell_type": "code",
      "execution_count": 12,
      "metadata": {
        "colab": {
          "base_uri": "https://localhost:8080/"
        },
        "id": "Uw9Ztusop94P",
        "outputId": "ca062227-2ce9-455d-8020-0e28c5680395"
      },
      "outputs": [
        {
          "name": "stdout",
          "output_type": "stream",
          "text": [
            "Epoch 1/100\n",
            "5/5 [==============================] - 4s 56ms/step - loss: 0.7346 - accuracy: 0.3559 - val_loss: 0.7262 - val_accuracy: 0.3077\n",
            "Epoch 2/100\n",
            "5/5 [==============================] - 0s 13ms/step - loss: 0.7031 - accuracy: 0.4576 - val_loss: 0.7227 - val_accuracy: 0.3077\n",
            "Epoch 3/100\n",
            "5/5 [==============================] - 0s 15ms/step - loss: 0.7130 - accuracy: 0.4407 - val_loss: 0.7192 - val_accuracy: 0.2692\n",
            "Epoch 4/100\n",
            "5/5 [==============================] - 0s 13ms/step - loss: 0.7005 - accuracy: 0.5254 - val_loss: 0.7167 - val_accuracy: 0.2308\n",
            "Epoch 5/100\n",
            "5/5 [==============================] - 0s 13ms/step - loss: 0.7105 - accuracy: 0.4407 - val_loss: 0.7132 - val_accuracy: 0.3846\n",
            "Epoch 6/100\n",
            "5/5 [==============================] - 0s 13ms/step - loss: 0.6863 - accuracy: 0.5254 - val_loss: 0.7106 - val_accuracy: 0.3462\n",
            "Epoch 7/100\n",
            "5/5 [==============================] - 0s 16ms/step - loss: 0.6907 - accuracy: 0.5932 - val_loss: 0.7082 - val_accuracy: 0.4615\n",
            "Epoch 8/100\n",
            "5/5 [==============================] - 0s 13ms/step - loss: 0.6783 - accuracy: 0.5593 - val_loss: 0.7061 - val_accuracy: 0.4615\n",
            "Epoch 9/100\n",
            "5/5 [==============================] - 0s 13ms/step - loss: 0.6683 - accuracy: 0.6102 - val_loss: 0.7046 - val_accuracy: 0.5000\n",
            "Epoch 10/100\n",
            "5/5 [==============================] - 0s 14ms/step - loss: 0.6718 - accuracy: 0.5763 - val_loss: 0.7025 - val_accuracy: 0.5000\n",
            "Epoch 11/100\n",
            "5/5 [==============================] - 0s 18ms/step - loss: 0.6744 - accuracy: 0.5763 - val_loss: 0.7007 - val_accuracy: 0.5769\n",
            "Epoch 12/100\n",
            "5/5 [==============================] - 0s 14ms/step - loss: 0.6568 - accuracy: 0.6271 - val_loss: 0.6993 - val_accuracy: 0.5769\n",
            "Epoch 13/100\n",
            "5/5 [==============================] - 0s 13ms/step - loss: 0.6511 - accuracy: 0.6949 - val_loss: 0.6976 - val_accuracy: 0.5769\n",
            "Epoch 14/100\n",
            "5/5 [==============================] - 0s 13ms/step - loss: 0.6312 - accuracy: 0.6780 - val_loss: 0.6963 - val_accuracy: 0.5769\n",
            "Epoch 15/100\n",
            "5/5 [==============================] - 0s 13ms/step - loss: 0.6462 - accuracy: 0.6949 - val_loss: 0.6948 - val_accuracy: 0.5769\n",
            "Epoch 16/100\n",
            "5/5 [==============================] - 0s 13ms/step - loss: 0.6260 - accuracy: 0.7458 - val_loss: 0.6937 - val_accuracy: 0.5769\n",
            "Epoch 17/100\n",
            "5/5 [==============================] - 0s 13ms/step - loss: 0.6293 - accuracy: 0.7458 - val_loss: 0.6930 - val_accuracy: 0.6154\n",
            "Epoch 18/100\n",
            "5/5 [==============================] - 0s 13ms/step - loss: 0.6365 - accuracy: 0.6949 - val_loss: 0.6918 - val_accuracy: 0.6154\n",
            "Epoch 19/100\n",
            "5/5 [==============================] - 0s 14ms/step - loss: 0.6576 - accuracy: 0.7119 - val_loss: 0.6907 - val_accuracy: 0.6154\n",
            "Epoch 20/100\n",
            "5/5 [==============================] - 0s 13ms/step - loss: 0.6352 - accuracy: 0.7119 - val_loss: 0.6898 - val_accuracy: 0.6154\n",
            "Epoch 21/100\n",
            "5/5 [==============================] - 0s 15ms/step - loss: 0.6309 - accuracy: 0.7288 - val_loss: 0.6890 - val_accuracy: 0.6154\n",
            "Epoch 22/100\n",
            "5/5 [==============================] - 0s 14ms/step - loss: 0.6177 - accuracy: 0.7119 - val_loss: 0.6882 - val_accuracy: 0.6154\n",
            "Epoch 23/100\n",
            "5/5 [==============================] - 0s 14ms/step - loss: 0.6314 - accuracy: 0.7119 - val_loss: 0.6876 - val_accuracy: 0.6154\n",
            "Epoch 24/100\n",
            "5/5 [==============================] - 0s 13ms/step - loss: 0.6353 - accuracy: 0.7288 - val_loss: 0.6874 - val_accuracy: 0.6154\n",
            "Epoch 25/100\n",
            "5/5 [==============================] - 0s 17ms/step - loss: 0.6089 - accuracy: 0.7288 - val_loss: 0.6868 - val_accuracy: 0.6154\n",
            "Epoch 26/100\n",
            "5/5 [==============================] - 0s 14ms/step - loss: 0.6273 - accuracy: 0.6949 - val_loss: 0.6865 - val_accuracy: 0.6154\n",
            "Epoch 27/100\n",
            "5/5 [==============================] - 0s 13ms/step - loss: 0.6187 - accuracy: 0.7288 - val_loss: 0.6864 - val_accuracy: 0.6154\n",
            "Epoch 28/100\n",
            "5/5 [==============================] - 0s 13ms/step - loss: 0.6182 - accuracy: 0.7288 - val_loss: 0.6859 - val_accuracy: 0.6154\n",
            "Epoch 29/100\n",
            "5/5 [==============================] - 0s 12ms/step - loss: 0.6216 - accuracy: 0.7288 - val_loss: 0.6856 - val_accuracy: 0.6154\n",
            "Epoch 30/100\n",
            "5/5 [==============================] - 0s 14ms/step - loss: 0.6058 - accuracy: 0.7288 - val_loss: 0.6855 - val_accuracy: 0.6154\n",
            "Epoch 31/100\n",
            "5/5 [==============================] - 0s 14ms/step - loss: 0.6011 - accuracy: 0.7627 - val_loss: 0.6851 - val_accuracy: 0.6154\n",
            "Epoch 32/100\n",
            "5/5 [==============================] - 0s 17ms/step - loss: 0.6133 - accuracy: 0.7288 - val_loss: 0.6849 - val_accuracy: 0.6154\n",
            "Epoch 33/100\n",
            "5/5 [==============================] - 0s 13ms/step - loss: 0.6164 - accuracy: 0.7288 - val_loss: 0.6849 - val_accuracy: 0.6154\n",
            "Epoch 34/100\n",
            "5/5 [==============================] - 0s 13ms/step - loss: 0.6161 - accuracy: 0.7288 - val_loss: 0.6845 - val_accuracy: 0.6154\n",
            "Epoch 35/100\n",
            "5/5 [==============================] - 0s 15ms/step - loss: 0.6068 - accuracy: 0.7288 - val_loss: 0.6846 - val_accuracy: 0.6154\n",
            "Epoch 36/100\n",
            "5/5 [==============================] - 0s 13ms/step - loss: 0.5946 - accuracy: 0.7288 - val_loss: 0.6846 - val_accuracy: 0.6154\n",
            "Epoch 37/100\n",
            "5/5 [==============================] - 0s 14ms/step - loss: 0.5873 - accuracy: 0.7288 - val_loss: 0.6847 - val_accuracy: 0.6154\n",
            "Epoch 38/100\n",
            "5/5 [==============================] - 0s 14ms/step - loss: 0.6081 - accuracy: 0.7288 - val_loss: 0.6848 - val_accuracy: 0.6154\n",
            "Epoch 39/100\n",
            "5/5 [==============================] - 0s 13ms/step - loss: 0.6154 - accuracy: 0.7288 - val_loss: 0.6847 - val_accuracy: 0.6154\n",
            "Epoch 40/100\n",
            "5/5 [==============================] - 0s 12ms/step - loss: 0.5883 - accuracy: 0.7458 - val_loss: 0.6847 - val_accuracy: 0.6154\n",
            "Epoch 41/100\n",
            "5/5 [==============================] - 0s 13ms/step - loss: 0.6121 - accuracy: 0.7288 - val_loss: 0.6848 - val_accuracy: 0.6154\n",
            "Epoch 42/100\n",
            "5/5 [==============================] - 0s 13ms/step - loss: 0.6126 - accuracy: 0.7288 - val_loss: 0.6847 - val_accuracy: 0.6154\n",
            "Epoch 43/100\n",
            "5/5 [==============================] - 0s 13ms/step - loss: 0.6094 - accuracy: 0.7288 - val_loss: 0.6846 - val_accuracy: 0.6154\n",
            "Epoch 44/100\n",
            "5/5 [==============================] - 0s 13ms/step - loss: 0.5989 - accuracy: 0.7288 - val_loss: 0.6850 - val_accuracy: 0.6154\n",
            "Epoch 45/100\n",
            "5/5 [==============================] - 0s 13ms/step - loss: 0.5872 - accuracy: 0.7288 - val_loss: 0.6852 - val_accuracy: 0.6154\n",
            "Epoch 46/100\n",
            "5/5 [==============================] - 0s 13ms/step - loss: 0.5905 - accuracy: 0.7288 - val_loss: 0.6853 - val_accuracy: 0.6154\n",
            "Epoch 47/100\n",
            "5/5 [==============================] - 0s 13ms/step - loss: 0.5910 - accuracy: 0.7288 - val_loss: 0.6855 - val_accuracy: 0.6154\n",
            "Epoch 48/100\n",
            "5/5 [==============================] - 0s 16ms/step - loss: 0.5980 - accuracy: 0.7288 - val_loss: 0.6856 - val_accuracy: 0.6154\n",
            "Epoch 49/100\n",
            "5/5 [==============================] - 0s 15ms/step - loss: 0.6001 - accuracy: 0.7288 - val_loss: 0.6856 - val_accuracy: 0.6154\n",
            "Epoch 50/100\n",
            "5/5 [==============================] - 0s 14ms/step - loss: 0.5911 - accuracy: 0.7288 - val_loss: 0.6859 - val_accuracy: 0.6154\n",
            "Epoch 51/100\n",
            "5/5 [==============================] - 0s 13ms/step - loss: 0.5759 - accuracy: 0.7288 - val_loss: 0.6861 - val_accuracy: 0.6154\n",
            "Epoch 52/100\n",
            "5/5 [==============================] - 0s 13ms/step - loss: 0.6012 - accuracy: 0.7288 - val_loss: 0.6862 - val_accuracy: 0.6154\n",
            "Epoch 53/100\n",
            "5/5 [==============================] - 0s 13ms/step - loss: 0.5786 - accuracy: 0.7288 - val_loss: 0.6866 - val_accuracy: 0.6154\n",
            "Epoch 54/100\n",
            "5/5 [==============================] - 0s 13ms/step - loss: 0.6033 - accuracy: 0.7288 - val_loss: 0.6868 - val_accuracy: 0.6154\n",
            "Epoch 55/100\n",
            "5/5 [==============================] - 0s 13ms/step - loss: 0.5832 - accuracy: 0.7288 - val_loss: 0.6871 - val_accuracy: 0.6154\n",
            "Epoch 56/100\n",
            "5/5 [==============================] - 0s 12ms/step - loss: 0.5942 - accuracy: 0.7288 - val_loss: 0.6871 - val_accuracy: 0.6154\n",
            "Epoch 57/100\n",
            "5/5 [==============================] - 0s 13ms/step - loss: 0.5911 - accuracy: 0.7288 - val_loss: 0.6872 - val_accuracy: 0.6154\n",
            "Epoch 58/100\n",
            "5/5 [==============================] - 0s 16ms/step - loss: 0.5841 - accuracy: 0.7288 - val_loss: 0.6875 - val_accuracy: 0.6154\n",
            "Epoch 59/100\n",
            "5/5 [==============================] - 0s 13ms/step - loss: 0.6075 - accuracy: 0.7288 - val_loss: 0.6875 - val_accuracy: 0.6154\n",
            "Epoch 60/100\n",
            "5/5 [==============================] - 0s 13ms/step - loss: 0.5772 - accuracy: 0.7288 - val_loss: 0.6876 - val_accuracy: 0.6154\n",
            "Epoch 61/100\n",
            "5/5 [==============================] - 0s 13ms/step - loss: 0.6179 - accuracy: 0.7288 - val_loss: 0.6874 - val_accuracy: 0.6154\n",
            "Epoch 62/100\n",
            "5/5 [==============================] - 0s 12ms/step - loss: 0.5946 - accuracy: 0.7288 - val_loss: 0.6874 - val_accuracy: 0.6154\n",
            "Epoch 63/100\n",
            "5/5 [==============================] - 0s 13ms/step - loss: 0.5989 - accuracy: 0.7288 - val_loss: 0.6875 - val_accuracy: 0.6154\n",
            "Epoch 64/100\n",
            "5/5 [==============================] - 0s 14ms/step - loss: 0.5850 - accuracy: 0.7288 - val_loss: 0.6876 - val_accuracy: 0.6154\n",
            "Epoch 65/100\n",
            "5/5 [==============================] - 0s 13ms/step - loss: 0.5905 - accuracy: 0.7288 - val_loss: 0.6878 - val_accuracy: 0.6154\n",
            "Epoch 66/100\n",
            "5/5 [==============================] - 0s 13ms/step - loss: 0.5884 - accuracy: 0.7288 - val_loss: 0.6879 - val_accuracy: 0.6154\n",
            "Epoch 67/100\n",
            "5/5 [==============================] - 0s 13ms/step - loss: 0.5494 - accuracy: 0.7288 - val_loss: 0.6883 - val_accuracy: 0.6154\n",
            "Epoch 68/100\n",
            "5/5 [==============================] - 0s 12ms/step - loss: 0.5978 - accuracy: 0.7288 - val_loss: 0.6883 - val_accuracy: 0.6154\n",
            "Epoch 69/100\n",
            "5/5 [==============================] - 0s 13ms/step - loss: 0.5616 - accuracy: 0.7288 - val_loss: 0.6886 - val_accuracy: 0.6154\n",
            "Epoch 70/100\n",
            "5/5 [==============================] - 0s 13ms/step - loss: 0.5815 - accuracy: 0.7288 - val_loss: 0.6887 - val_accuracy: 0.6154\n",
            "Epoch 71/100\n",
            "5/5 [==============================] - 0s 13ms/step - loss: 0.5399 - accuracy: 0.7458 - val_loss: 0.6893 - val_accuracy: 0.6154\n",
            "Epoch 72/100\n",
            "5/5 [==============================] - 0s 13ms/step - loss: 0.5318 - accuracy: 0.7288 - val_loss: 0.6900 - val_accuracy: 0.6154\n",
            "Epoch 73/100\n",
            "5/5 [==============================] - 0s 13ms/step - loss: 0.5695 - accuracy: 0.7288 - val_loss: 0.6903 - val_accuracy: 0.6154\n",
            "Epoch 74/100\n",
            "5/5 [==============================] - 0s 14ms/step - loss: 0.5773 - accuracy: 0.7288 - val_loss: 0.6905 - val_accuracy: 0.6154\n",
            "Epoch 75/100\n",
            "5/5 [==============================] - 0s 12ms/step - loss: 0.5843 - accuracy: 0.7288 - val_loss: 0.6904 - val_accuracy: 0.6154\n",
            "Epoch 76/100\n",
            "5/5 [==============================] - 0s 13ms/step - loss: 0.5682 - accuracy: 0.7288 - val_loss: 0.6907 - val_accuracy: 0.6154\n",
            "Epoch 77/100\n",
            "5/5 [==============================] - 0s 13ms/step - loss: 0.5650 - accuracy: 0.7288 - val_loss: 0.6912 - val_accuracy: 0.6154\n",
            "Epoch 78/100\n",
            "5/5 [==============================] - 0s 14ms/step - loss: 0.5780 - accuracy: 0.7288 - val_loss: 0.6912 - val_accuracy: 0.6154\n",
            "Epoch 79/100\n",
            "5/5 [==============================] - 0s 14ms/step - loss: 0.5808 - accuracy: 0.7288 - val_loss: 0.6913 - val_accuracy: 0.6154\n",
            "Epoch 80/100\n",
            "5/5 [==============================] - 0s 14ms/step - loss: 0.5404 - accuracy: 0.7288 - val_loss: 0.6918 - val_accuracy: 0.6154\n",
            "Epoch 81/100\n",
            "5/5 [==============================] - 0s 13ms/step - loss: 0.5611 - accuracy: 0.7288 - val_loss: 0.6921 - val_accuracy: 0.6154\n",
            "Epoch 82/100\n",
            "5/5 [==============================] - 0s 14ms/step - loss: 0.5814 - accuracy: 0.7288 - val_loss: 0.6921 - val_accuracy: 0.6154\n",
            "Epoch 83/100\n",
            "5/5 [==============================] - 0s 14ms/step - loss: 0.5699 - accuracy: 0.7288 - val_loss: 0.6922 - val_accuracy: 0.6154\n",
            "Epoch 84/100\n",
            "5/5 [==============================] - 0s 15ms/step - loss: 0.5800 - accuracy: 0.7288 - val_loss: 0.6923 - val_accuracy: 0.6154\n",
            "Epoch 85/100\n",
            "5/5 [==============================] - 0s 13ms/step - loss: 0.5337 - accuracy: 0.7288 - val_loss: 0.6929 - val_accuracy: 0.6154\n",
            "Epoch 86/100\n",
            "5/5 [==============================] - 0s 13ms/step - loss: 0.5800 - accuracy: 0.7288 - val_loss: 0.6926 - val_accuracy: 0.6154\n",
            "Epoch 87/100\n",
            "5/5 [==============================] - 0s 15ms/step - loss: 0.5433 - accuracy: 0.7288 - val_loss: 0.6927 - val_accuracy: 0.6154\n",
            "Epoch 88/100\n",
            "5/5 [==============================] - 0s 14ms/step - loss: 0.5639 - accuracy: 0.7288 - val_loss: 0.6929 - val_accuracy: 0.6154\n",
            "Epoch 89/100\n",
            "5/5 [==============================] - 0s 13ms/step - loss: 0.5980 - accuracy: 0.7288 - val_loss: 0.6928 - val_accuracy: 0.6154\n",
            "Epoch 90/100\n",
            "5/5 [==============================] - 0s 13ms/step - loss: 0.5629 - accuracy: 0.7288 - val_loss: 0.6931 - val_accuracy: 0.6154\n",
            "Epoch 91/100\n",
            "5/5 [==============================] - 0s 13ms/step - loss: 0.5378 - accuracy: 0.7458 - val_loss: 0.6935 - val_accuracy: 0.6154\n",
            "Epoch 92/100\n",
            "5/5 [==============================] - 0s 14ms/step - loss: 0.5916 - accuracy: 0.7288 - val_loss: 0.6934 - val_accuracy: 0.6154\n",
            "Epoch 93/100\n",
            "5/5 [==============================] - 0s 14ms/step - loss: 0.5526 - accuracy: 0.7288 - val_loss: 0.6934 - val_accuracy: 0.6154\n",
            "Epoch 94/100\n",
            "5/5 [==============================] - 0s 13ms/step - loss: 0.5624 - accuracy: 0.7288 - val_loss: 0.6935 - val_accuracy: 0.6154\n",
            "Epoch 95/100\n",
            "5/5 [==============================] - 0s 13ms/step - loss: 0.5691 - accuracy: 0.7288 - val_loss: 0.6938 - val_accuracy: 0.6154\n",
            "Epoch 96/100\n",
            "5/5 [==============================] - 0s 13ms/step - loss: 0.5514 - accuracy: 0.7288 - val_loss: 0.6941 - val_accuracy: 0.6154\n",
            "Epoch 97/100\n",
            "5/5 [==============================] - 0s 14ms/step - loss: 0.5437 - accuracy: 0.7288 - val_loss: 0.6945 - val_accuracy: 0.6154\n",
            "Epoch 98/100\n",
            "5/5 [==============================] - 0s 14ms/step - loss: 0.5801 - accuracy: 0.7288 - val_loss: 0.6941 - val_accuracy: 0.6154\n",
            "Epoch 99/100\n",
            "5/5 [==============================] - 0s 14ms/step - loss: 0.5540 - accuracy: 0.7288 - val_loss: 0.6946 - val_accuracy: 0.6154\n",
            "Epoch 100/100\n",
            "5/5 [==============================] - 0s 13ms/step - loss: 0.5605 - accuracy: 0.7288 - val_loss: 0.6946 - val_accuracy: 0.6154\n"
          ]
        }
      ],
      "source": [
        "history = model.fit(X_train, y_train,\n",
        "                    epochs= 100,\n",
        "                    steps_per_epoch = 5,\n",
        "                    validation_data=(X_test, y_test),\n",
        "                    )"
      ]
    },
    {
      "cell_type": "markdown",
      "metadata": {
        "id": "E8u7TinieU6Z"
      },
      "source": [
        "## Plot hasil model, test model, dan buat .h5 file"
      ]
    },
    {
      "cell_type": "code",
      "execution_count": 13,
      "metadata": {
        "colab": {
          "base_uri": "https://localhost:8080/",
          "height": 295
        },
        "id": "qxCP6j5heU6a",
        "outputId": "7caee067-1bae-4b1c-f94a-1b709478c377"
      },
      "outputs": [
        {
          "data": {
            "image/png": "[encoded data removed]",
            "text/plain": [
              "<Figure size 432x288 with 1 Axes>"
            ]
          },
          "metadata": {
            "needs_background": "light"
          },
          "output_type": "display_data"
        }
      ],
      "source": [
        "plt.plot(history.history['loss'])\n",
        "plt.plot(history.history['val_loss'])\n",
        "plt.title('model loss')\n",
        "plt.ylabel('loss')\n",
        "plt.xlabel('epoch')\n",
        "plt.legend(['train', 'test'], loc='upper left')\n",
        "plt.show()"
      ]
    },
    {
      "cell_type": "code",
      "execution_count": 14,
      "metadata": {
        "colab": {
          "base_uri": "https://localhost:8080/",
          "height": 295
        },
        "id": "O0I6cuzweU6b",
        "outputId": "aecd83f8-f156-4f87-b8df-85bbc1e586b8"
      },
      "outputs": [
        {
          "data": {
            "image/png": "[encoded data removed]",
            "text/plain": [
              "<Figure size 432x288 with 1 Axes>"
            ]
          },
          "metadata": {
            "needs_background": "light"
          },
          "output_type": "display_data"
        }
      ],
      "source": [
        "plt.plot(history.history['accuracy'])\n",
        "plt.plot(history.history['val_accuracy'])\n",
        "plt.title('model accuracy')\n",
        "plt.ylabel('acc')\n",
        "plt.xlabel('epoch')\n",
        "plt.legend(['train', 'test'], loc='upper left')\n",
        "plt.show()"
      ]
    },
    {
      "cell_type": "markdown",
      "metadata": {
        "id": "r503rBXFWjBw"
      },
      "source": [
        "## Test Predict"
      ]
    },
    {
      "cell_type": "code",
      "execution_count": 17,
      "metadata": {
        "colab": {
          "base_uri": "https://localhost:8080/"
        },
        "id": "qFaFvx3fWis3",
        "outputId": "3f0c44d8-70a5-4533-f9c2-31e2194ed8d3"
      },
      "outputs": [
        {
          "data": {
            "text/plain": [
              "array([[0.69644105],\n",
              "       [0.6657493 ],\n",
              "       [0.6831479 ],\n",
              "       [0.66115797],\n",
              "       [0.66390526],\n",
              "       [0.61714774],\n",
              "       [0.62376344],\n",
              "       [0.6683291 ],\n",
              "       [0.6927027 ],\n",
              "       [0.6870633 ],\n",
              "       [0.6771302 ],\n",
              "       [0.6757572 ],\n",
              "       [0.6843688 ],\n",
              "       [0.6716369 ],\n",
              "       [0.7017683 ],\n",
              "       [0.65580153],\n",
              "       [0.6832183 ],\n",
              "       [0.6852952 ],\n",
              "       [0.7055363 ],\n",
              "       [0.6820952 ],\n",
              "       [0.6565064 ],\n",
              "       [0.6904452 ],\n",
              "       [0.69689924],\n",
              "       [0.65834165],\n",
              "       [0.71504587],\n",
              "       [0.6823333 ]], dtype=float32)"
            ]
          },
          "execution_count": 17,
          "metadata": {},
          "output_type": "execute_result"
        }
      ],
      "source": [
        "predict = model.predict(X_test)\n",
        "predict"
      ]
    },
    {
      "cell_type": "markdown",
      "metadata": {
        "id": "twkA_6bpqe7G"
      },
      "source": [
        "### Save model"
      ]
    },
    {
      "cell_type": "code",
      "execution_count": null,
      "metadata": {
        "colab": {
          "base_uri": "https://localhost:8080/"
        },
        "id": "hKjEVus-1LMS",
        "outputId": "cc343d77-a98e-4678-e6ad-19f5e78323a0"
      },
      "outputs": [
        {
          "data": {
            "text/plain": [
              "array([[ 1,  5],\n",
              "       [ 2, 18]])"
            ]
          },
          "execution_count": 82,
          "metadata": {},
          "output_type": "execute_result"
        }
      ],
      "source": [
        "from sklearn.metrics import confusion_matrix\n",
        "cm = confusion_matrix(y_test, y[:26])\n",
        "cm\n"
      ]
    },
    {
      "cell_type": "code",
      "execution_count": null,
      "metadata": {
        "colab": {
          "base_uri": "https://localhost:8080/"
        },
        "id": "C1zkZPQKeU6c",
        "outputId": "8b84999a-68f8-4da9-928a-186c1b10e7ec"
      },
      "outputs": [
        {
          "name": "stdout",
          "output_type": "stream",
          "text": [
            "INFO:tensorflow:Assets written to: fine_tuned/assets\n"
          ]
        },
        {
          "name": "stderr",
          "output_type": "stream",
          "text": [
            "INFO:tensorflow:Assets written to: fine_tuned/assets\n"
          ]
        },
        {
          "name": "stdout",
          "output_type": "stream",
          "text": [
            "INFO:tensorflow:Assets written to: model/assets\n"
          ]
        },
        {
          "name": "stderr",
          "output_type": "stream",
          "text": [
            "INFO:tensorflow:Assets written to: model/assets\n"
          ]
        }
      ],
      "source": [
        "\n",
        "tf.saved_model.save(model, \"fine_tuned\")\n",
        "model.save(\"model\", include_optimizer=False) "
      ]
    },
    {
      "cell_type": "code",
      "execution_count": null,
      "metadata": {
        "id": "0FTuskqtGwfD"
      },
      "outputs": [],
      "source": [
        "def importModel(modelPath):\n",
        "    model = tf.keras.models.load_model(modelPath)\n",
        "    tfjs.converters.save_keras_model(model, \"tfjsmodel\")\n"
      ]
    },
    {
      "cell_type": "code",
      "execution_count": null,
      "metadata": {
        "colab": {
          "base_uri": "https://localhost:8080/"
        },
        "id": "oKZu2xoSNMTg",
        "outputId": "b8fc81bd-7e10-4116-a19b-6a6e081a82fb"
      },
      "outputs": [
        {
          "name": "stdout",
          "output_type": "stream",
          "text": [
            "updating: content/model/ (stored 0%)\n",
            "updating: content/model/saved_model.pb (deflated 86%)\n",
            "updating: content/model/assets/ (stored 0%)\n",
            "updating: content/model/assets/tokens.txt (deflated 51%)\n",
            "updating: content/model/variables/ (stored 0%)\n",
            "updating: content/model/variables/variables.data-00000-of-00001 (deflated 7%)\n",
            "updating: content/model/variables/variables.index (deflated 50%)\n",
            "updating: content/model/keras_metadata.pb (deflated 82%)\n",
            "updating: content/fine_tuned/ (stored 0%)\n",
            "updating: content/fine_tuned/saved_model.pb (deflated 86%)\n",
            "updating: content/fine_tuned/assets/ (stored 0%)\n",
            "updating: content/fine_tuned/assets/tokens.txt (deflated 51%)\n",
            "updating: content/fine_tuned/variables/ (stored 0%)\n",
            "updating: content/fine_tuned/variables/variables.data-00000-of-00001 (deflated 7%)\n",
            "updating: content/fine_tuned/variables/variables.index (deflated 52%)\n"
          ]
        }
      ],
      "source": [
        "!zip -r /content/model.zip /content/model\n",
        "!zip -r /content/fine_tuned.zip /content/fine_tuned"
      ]
    },
    {
      "cell_type": "code",
      "execution_count": null,
      "metadata": {
        "colab": {
          "base_uri": "https://localhost:8080/",
          "height": 34
        },
        "id": "HzAWnL_uNfdv",
        "outputId": "c24104ce-4114-4023-fbf6-db69f289ca49"
      },
      "outputs": [
        {
          "data": {
            "application/javascript": "\n    async function download(id, filename, size) {\n      if (!google.colab.kernel.accessAllowed) {\n        return;\n      }\n      const div = document.createElement('div');\n      const label = document.createElement('label');\n      label.textContent = `Downloading \"${filename}\": `;\n      div.appendChild(label);\n      const progress = document.createElement('progress');\n      progress.max = size;\n      div.appendChild(progress);\n      document.body.appendChild(div);\n\n      const buffers = [];\n      let downloaded = 0;\n\n      const channel = await google.colab.kernel.comms.open(id);\n      // Send a message to notify the kernel that we're ready.\n      channel.send({})\n\n      for await (const message of channel.messages) {\n        // Send a message to notify the kernel that we're ready.\n        channel.send({})\n        if (message.buffers) {\n          for (const buffer of message.buffers) {\n            buffers.push(buffer);\n            downloaded += buffer.byteLength;\n            progress.value = downloaded;\n          }\n        }\n      }\n      const blob = new Blob(buffers, {type: 'application/binary'});\n      const a = document.createElement('a');\n      a.href = window.URL.createObjectURL(blob);\n      a.download = filename;\n      div.appendChild(a);\n      a.click();\n      div.remove();\n    }\n  ",
            "text/plain": [
              "<IPython.core.display.Javascript object>"
            ]
          },
          "metadata": {},
          "output_type": "display_data"
        },
        {
          "data": {
            "application/javascript": "download(\"download_d0b7a541-44b0-489a-a6db-9c81359af6af\", \"fine_tuned.zip\", 421017008)",
            "text/plain": [
              "<IPython.core.display.Javascript object>"
            ]
          },
          "metadata": {},
          "output_type": "display_data"
        }
      ],
      "source": [
        "from google.colab import files\n",
        "files.download('/content/fine_tuned.zip')"
      ]
    },
    {
      "cell_type": "code",
      "execution_count": null,
      "metadata": {
        "colab": {
          "base_uri": "https://localhost:8080/",
          "height": 34
        },
        "id": "EpFdgZ-eQXFT",
        "outputId": "2fefe799-22b4-4885-8643-e5aadd993300"
      },
      "outputs": [
        {
          "data": {
            "application/javascript": "\n    async function download(id, filename, size) {\n      if (!google.colab.kernel.accessAllowed) {\n        return;\n      }\n      const div = document.createElement('div');\n      const label = document.createElement('label');\n      label.textContent = `Downloading \"${filename}\": `;\n      div.appendChild(label);\n      const progress = document.createElement('progress');\n      progress.max = size;\n      div.appendChild(progress);\n      document.body.appendChild(div);\n\n      const buffers = [];\n      let downloaded = 0;\n\n      const channel = await google.colab.kernel.comms.open(id);\n      // Send a message to notify the kernel that we're ready.\n      channel.send({})\n\n      for await (const message of channel.messages) {\n        // Send a message to notify the kernel that we're ready.\n        channel.send({})\n        if (message.buffers) {\n          for (const buffer of message.buffers) {\n            buffers.push(buffer);\n            downloaded += buffer.byteLength;\n            progress.value = downloaded;\n          }\n        }\n      }\n      const blob = new Blob(buffers, {type: 'application/binary'});\n      const a = document.createElement('a');\n      a.href = window.URL.createObjectURL(blob);\n      a.download = filename;\n      div.appendChild(a);\n      a.click();\n      div.remove();\n    }\n  ",
            "text/plain": [
              "<IPython.core.display.Javascript object>"
            ]
          },
          "metadata": {},
          "output_type": "display_data"
        },
        {
          "data": {
            "application/javascript": "download(\"download_5121c6c5-a91c-4f91-b328-7ecc0726e1af\", \"model.zip\", 421017122)",
            "text/plain": [
              "<IPython.core.display.Javascript object>"
            ]
          },
          "metadata": {},
          "output_type": "display_data"
        }
      ],
      "source": [
        "files.download('/content/model.zip')"
      ]
    },
    {
      "cell_type": "markdown",
      "metadata": {
        "id": "f_4luQuzeU6Q"
      },
      "source": [
        "## Normal Tensorflow (without TFHub)"
      ]
    },
    {
      "cell_type": "markdown",
      "metadata": {
        "id": "oBptb7BueU6P"
      },
      "source": [
        "split buat train dan test + validation"
      ]
    },
    {
      "cell_type": "code",
      "execution_count": null,
      "metadata": {
        "id": "sdS18LSVeU6Q"
      },
      "outputs": [],
      "source": [
        "X_train, X_test, y_train, y_test = train_test_split(x, y, test_size=0.3, shuffle=True)"
      ]
    },
    {
      "cell_type": "code",
      "execution_count": null,
      "metadata": {
        "id": "hk9OoFWheU6R"
      },
      "outputs": [],
      "source": [
        "vocab_size = 10000\n",
        "embedding_dim = 16\n",
        "max_length = 700\n",
        "trunc_type = 'post'\n",
        "padding_type = 'post'\n",
        "oov_token = '<OOV>'"
      ]
    },
    {
      "cell_type": "code",
      "execution_count": null,
      "metadata": {
        "id": "a-vCBENheU6S"
      },
      "outputs": [],
      "source": [
        "tokenizer = Tokenizer(num_words=vocab_size, oov_token=oov_token)\n",
        "tokenizer.fit_on_texts(x)\n",
        "\n",
        "word_index = tokenizer.word_index\n",
        "\n",
        "training_sequences = tokenizer.texts_to_sequences(X_train)\n",
        "testing_sequences = tokenizer.texts_to_sequences(X_test)\n",
        "\n",
        "training_padding = pad_sequences(training_sequences, maxlen=max_length, padding=padding_type, truncating=trunc_type)\n",
        "testing_padding = pad_sequences(testing_sequences, maxlen=max_length, padding=padding_type, truncating=trunc_type)\n",
        "\n",
        "training_padding = np.array(training_padding)\n",
        "training_labels = np.array(y_train)\n",
        "\n",
        "testing_padding = np.array(testing_padding)\n",
        "testing_labels = np.array(y_test)\n",
        "\n",
        "\n"
      ]
    },
    {
      "cell_type": "code",
      "execution_count": null,
      "metadata": {
        "colab": {
          "base_uri": "https://localhost:8080/"
        },
        "id": "qjOwkHWZeU6U",
        "outputId": "6f8c00b0-db07-4487-b588-9f2f003c352b"
      },
      "outputs": [
        {
          "name": "stdout",
          "output_type": "stream",
          "text": [
            "Model: \"sequential_4\"\n",
            "_________________________________________________________________\n",
            " Layer (type)                Output Shape              Param #   \n",
            "=================================================================\n",
            " embedding_1 (Embedding)     (None, 700, 16)           160000    \n",
            "                                                                 \n",
            " global_average_pooling1d_1   (None, 16)               0         \n",
            " (GlobalAveragePooling1D)                                        \n",
            "                                                                 \n",
            " dense_9 (Dense)             (None, 64)                1088      \n",
            "                                                                 \n",
            " dense_10 (Dense)            (None, 32)                2080      \n",
            "                                                                 \n",
            " dropout_4 (Dropout)         (None, 32)                0         \n",
            "                                                                 \n",
            " dense_11 (Dense)            (None, 1)                 33        \n",
            "                                                                 \n",
            "=================================================================\n",
            "Total params: 163,201\n",
            "Trainable params: 163,201\n",
            "Non-trainable params: 0\n",
            "_________________________________________________________________\n"
          ]
        }
      ],
      "source": [
        "model = tf.keras.Sequential([\n",
        "    tf.keras.layers.Embedding(vocab_size, embedding_dim, input_length=max_length),\n",
        "    tf.keras.layers.GlobalAveragePooling1D(),\n",
        "    tf.keras.layers.Dense(64, activation='softmax'),\n",
        "    tf.keras.layers.Dense(32, activation='relu'),\n",
        "    tf.keras.layers.Dropout(0.2),\n",
        "    tf.keras.layers.Dense(1, activation='sigmoid')\n",
        "])\n",
        "\n",
        "model.summary()"
      ]
    },
    {
      "cell_type": "code",
      "execution_count": null,
      "metadata": {
        "colab": {
          "base_uri": "https://localhost:8080/"
        },
        "id": "d-GZOmPjeU6U",
        "outputId": "f82daab6-35e9-434a-e438-d921c87a1414"
      },
      "outputs": [
        {
          "name": "stdout",
          "output_type": "stream",
          "text": [
            "Epoch 1/50\n",
            "10/10 - 1s - loss: 0.6966 - accuracy: 0.4237 - val_loss: 0.6955 - val_accuracy: 0.2308 - 625ms/epoch - 63ms/step\n",
            "Epoch 2/50\n",
            "10/10 - 0s - loss: 0.6960 - accuracy: 0.3898 - val_loss: 0.6945 - val_accuracy: 0.2308 - 48ms/epoch - 5ms/step\n",
            "Epoch 3/50\n",
            "10/10 - 0s - loss: 0.6927 - accuracy: 0.5085 - val_loss: 0.6934 - val_accuracy: 0.2308 - 50ms/epoch - 5ms/step\n",
            "Epoch 4/50\n",
            "10/10 - 0s - loss: 0.6943 - accuracy: 0.4237 - val_loss: 0.6922 - val_accuracy: 0.7692 - 51ms/epoch - 5ms/step\n",
            "Epoch 5/50\n",
            "10/10 - 0s - loss: 0.6918 - accuracy: 0.6780 - val_loss: 0.6911 - val_accuracy: 0.7692 - 49ms/epoch - 5ms/step\n",
            "Epoch 6/50\n",
            "10/10 - 0s - loss: 0.6933 - accuracy: 0.5424 - val_loss: 0.6901 - val_accuracy: 0.7692 - 47ms/epoch - 5ms/step\n",
            "Epoch 7/50\n",
            "10/10 - 0s - loss: 0.6920 - accuracy: 0.5932 - val_loss: 0.6891 - val_accuracy: 0.7692 - 47ms/epoch - 5ms/step\n",
            "Epoch 8/50\n",
            "10/10 - 0s - loss: 0.6904 - accuracy: 0.6102 - val_loss: 0.6880 - val_accuracy: 0.7692 - 51ms/epoch - 5ms/step\n",
            "Epoch 9/50\n",
            "10/10 - 0s - loss: 0.6895 - accuracy: 0.6102 - val_loss: 0.6870 - val_accuracy: 0.7692 - 51ms/epoch - 5ms/step\n",
            "Epoch 10/50\n",
            "10/10 - 0s - loss: 0.6895 - accuracy: 0.6441 - val_loss: 0.6860 - val_accuracy: 0.7692 - 52ms/epoch - 5ms/step\n",
            "Epoch 11/50\n",
            "10/10 - 0s - loss: 0.6884 - accuracy: 0.6780 - val_loss: 0.6850 - val_accuracy: 0.7692 - 52ms/epoch - 5ms/step\n",
            "Epoch 12/50\n",
            "10/10 - 0s - loss: 0.6880 - accuracy: 0.6610 - val_loss: 0.6840 - val_accuracy: 0.7692 - 53ms/epoch - 5ms/step\n",
            "Epoch 13/50\n",
            "10/10 - 0s - loss: 0.6880 - accuracy: 0.6610 - val_loss: 0.6830 - val_accuracy: 0.7692 - 50ms/epoch - 5ms/step\n",
            "Epoch 14/50\n",
            "10/10 - 0s - loss: 0.6869 - accuracy: 0.6610 - val_loss: 0.6819 - val_accuracy: 0.7692 - 52ms/epoch - 5ms/step\n",
            "Epoch 15/50\n",
            "10/10 - 0s - loss: 0.6848 - accuracy: 0.6441 - val_loss: 0.6809 - val_accuracy: 0.7692 - 57ms/epoch - 6ms/step\n",
            "Epoch 16/50\n",
            "10/10 - 0s - loss: 0.6847 - accuracy: 0.6610 - val_loss: 0.6800 - val_accuracy: 0.7692 - 59ms/epoch - 6ms/step\n",
            "Epoch 17/50\n",
            "10/10 - 0s - loss: 0.6852 - accuracy: 0.6610 - val_loss: 0.6791 - val_accuracy: 0.7692 - 56ms/epoch - 6ms/step\n",
            "Epoch 18/50\n",
            "10/10 - 0s - loss: 0.6851 - accuracy: 0.6610 - val_loss: 0.6783 - val_accuracy: 0.7692 - 59ms/epoch - 6ms/step\n",
            "Epoch 19/50\n",
            "10/10 - 0s - loss: 0.6852 - accuracy: 0.6610 - val_loss: 0.6774 - val_accuracy: 0.7692 - 70ms/epoch - 7ms/step\n",
            "Epoch 20/50\n",
            "10/10 - 0s - loss: 0.6849 - accuracy: 0.6610 - val_loss: 0.6765 - val_accuracy: 0.7692 - 52ms/epoch - 5ms/step\n",
            "Epoch 21/50\n",
            "10/10 - 0s - loss: 0.6833 - accuracy: 0.6610 - val_loss: 0.6756 - val_accuracy: 0.7692 - 52ms/epoch - 5ms/step\n",
            "Epoch 22/50\n",
            "10/10 - 0s - loss: 0.6837 - accuracy: 0.6610 - val_loss: 0.6748 - val_accuracy: 0.7692 - 52ms/epoch - 5ms/step\n",
            "Epoch 23/50\n",
            "10/10 - 0s - loss: 0.6826 - accuracy: 0.6610 - val_loss: 0.6739 - val_accuracy: 0.7692 - 54ms/epoch - 5ms/step\n",
            "Epoch 24/50\n",
            "10/10 - 0s - loss: 0.6846 - accuracy: 0.6610 - val_loss: 0.6732 - val_accuracy: 0.7692 - 47ms/epoch - 5ms/step\n",
            "Epoch 25/50\n",
            "10/10 - 0s - loss: 0.6810 - accuracy: 0.6610 - val_loss: 0.6724 - val_accuracy: 0.7692 - 50ms/epoch - 5ms/step\n",
            "Epoch 26/50\n",
            "10/10 - 0s - loss: 0.6804 - accuracy: 0.6610 - val_loss: 0.6717 - val_accuracy: 0.7692 - 54ms/epoch - 5ms/step\n",
            "Epoch 27/50\n",
            "10/10 - 0s - loss: 0.6803 - accuracy: 0.6610 - val_loss: 0.6710 - val_accuracy: 0.7692 - 48ms/epoch - 5ms/step\n",
            "Epoch 28/50\n",
            "10/10 - 0s - loss: 0.6806 - accuracy: 0.6610 - val_loss: 0.6703 - val_accuracy: 0.7692 - 46ms/epoch - 5ms/step\n",
            "Epoch 29/50\n",
            "10/10 - 0s - loss: 0.6794 - accuracy: 0.6610 - val_loss: 0.6696 - val_accuracy: 0.7692 - 53ms/epoch - 5ms/step\n",
            "Epoch 30/50\n",
            "10/10 - 0s - loss: 0.6821 - accuracy: 0.6610 - val_loss: 0.6690 - val_accuracy: 0.7692 - 49ms/epoch - 5ms/step\n",
            "Epoch 31/50\n",
            "10/10 - 0s - loss: 0.6777 - accuracy: 0.6610 - val_loss: 0.6683 - val_accuracy: 0.7692 - 53ms/epoch - 5ms/step\n",
            "Epoch 32/50\n",
            "10/10 - 0s - loss: 0.6790 - accuracy: 0.6610 - val_loss: 0.6677 - val_accuracy: 0.7692 - 65ms/epoch - 7ms/step\n",
            "Epoch 33/50\n",
            "10/10 - 0s - loss: 0.6764 - accuracy: 0.6610 - val_loss: 0.6669 - val_accuracy: 0.7692 - 52ms/epoch - 5ms/step\n",
            "Epoch 34/50\n",
            "10/10 - 0s - loss: 0.6769 - accuracy: 0.6610 - val_loss: 0.6663 - val_accuracy: 0.7692 - 53ms/epoch - 5ms/step\n",
            "Epoch 35/50\n",
            "10/10 - 0s - loss: 0.6788 - accuracy: 0.6610 - val_loss: 0.6657 - val_accuracy: 0.7692 - 52ms/epoch - 5ms/step\n",
            "Epoch 36/50\n",
            "10/10 - 0s - loss: 0.6779 - accuracy: 0.6610 - val_loss: 0.6651 - val_accuracy: 0.7692 - 53ms/epoch - 5ms/step\n",
            "Epoch 37/50\n",
            "10/10 - 0s - loss: 0.6771 - accuracy: 0.6610 - val_loss: 0.6645 - val_accuracy: 0.7692 - 51ms/epoch - 5ms/step\n",
            "Epoch 38/50\n",
            "10/10 - 0s - loss: 0.6768 - accuracy: 0.6610 - val_loss: 0.6639 - val_accuracy: 0.7692 - 51ms/epoch - 5ms/step\n",
            "Epoch 39/50\n",
            "10/10 - 0s - loss: 0.6746 - accuracy: 0.6610 - val_loss: 0.6633 - val_accuracy: 0.7692 - 52ms/epoch - 5ms/step\n",
            "Epoch 40/50\n",
            "10/10 - 0s - loss: 0.6767 - accuracy: 0.6610 - val_loss: 0.6627 - val_accuracy: 0.7692 - 52ms/epoch - 5ms/step\n",
            "Epoch 41/50\n",
            "10/10 - 0s - loss: 0.6756 - accuracy: 0.6610 - val_loss: 0.6622 - val_accuracy: 0.7692 - 50ms/epoch - 5ms/step\n",
            "Epoch 42/50\n",
            "10/10 - 0s - loss: 0.6749 - accuracy: 0.6610 - val_loss: 0.6616 - val_accuracy: 0.7692 - 48ms/epoch - 5ms/step\n",
            "Epoch 43/50\n",
            "10/10 - 0s - loss: 0.6763 - accuracy: 0.6610 - val_loss: 0.6611 - val_accuracy: 0.7692 - 65ms/epoch - 7ms/step\n",
            "Epoch 44/50\n",
            "10/10 - 0s - loss: 0.6754 - accuracy: 0.6610 - val_loss: 0.6605 - val_accuracy: 0.7692 - 47ms/epoch - 5ms/step\n",
            "Epoch 45/50\n",
            "10/10 - 0s - loss: 0.6760 - accuracy: 0.6610 - val_loss: 0.6600 - val_accuracy: 0.7692 - 49ms/epoch - 5ms/step\n",
            "Epoch 46/50\n",
            "10/10 - 0s - loss: 0.6749 - accuracy: 0.6610 - val_loss: 0.6594 - val_accuracy: 0.7692 - 52ms/epoch - 5ms/step\n",
            "Epoch 47/50\n",
            "10/10 - 0s - loss: 0.6739 - accuracy: 0.6610 - val_loss: 0.6589 - val_accuracy: 0.7692 - 53ms/epoch - 5ms/step\n",
            "Epoch 48/50\n",
            "10/10 - 0s - loss: 0.6724 - accuracy: 0.6610 - val_loss: 0.6583 - val_accuracy: 0.7692 - 49ms/epoch - 5ms/step\n",
            "Epoch 49/50\n",
            "10/10 - 0s - loss: 0.6727 - accuracy: 0.6610 - val_loss: 0.6577 - val_accuracy: 0.7692 - 52ms/epoch - 5ms/step\n",
            "Epoch 50/50\n",
            "10/10 - 0s - loss: 0.6713 - accuracy: 0.6610 - val_loss: 0.6571 - val_accuracy: 0.7692 - 49ms/epoch - 5ms/step\n"
          ]
        }
      ],
      "source": [
        "opt = tf.keras.optimizers.SGD(learning_rate=0.001)\n",
        "model.compile(loss='binary_crossentropy', optimizer=opt, metrics=['accuracy'])\n",
        "\n",
        "num_epochs = 50\n",
        "history = model.fit(training_padding, training_labels, epochs=num_epochs, steps_per_epoch = 10, validation_data=(testing_padding, testing_labels), verbose=2)"
      ]
    }
  ],
  "metadata": {
    "accelerator": "GPU",
    "colab": {
      "collapsed_sections": [
        "f_4luQuzeU6Q"
      ],
      "name": "model-new.ipynb",
      "provenance": []
    },
    "kernelspec": {
      "display_name": "Python 3.8.10 64-bit",
      "language": "python",
      "name": "python3"
    },
    "language_info": {
      "codemirror_mode": {
        "name": "ipython",
        "version": 3
      },
      "file_extension": ".py",
      "mimetype": "text/x-python",
      "name": "python",
      "nbconvert_exporter": "python",
      "pygments_lexer": "ipython3",
      "version": "3.8.10"
    },
    "vscode": {
      "interpreter": {
        "hash": "916dbcbb3f70747c44a77c7bcd40155683ae19c65e1c03b4aa3499c5328201f1"
      }
    }
  },
  "nbformat": 4,
  "nbformat_minor": 0
}
