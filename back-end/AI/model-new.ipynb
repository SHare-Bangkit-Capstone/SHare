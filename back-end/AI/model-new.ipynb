{
 "cells": [
  {
   "cell_type": "code",
   "execution_count": 17,
   "metadata": {},
   "outputs": [],
   "source": [
    "import pandas as pd\n",
    "import numpy as np\n",
    "import matplotlib.pyplot as plt\n",
    "import tensorflow as tf\n",
    "\n",
    "from numpy import array\n",
    "from sklearn.model_selection import train_test_split\n",
    "\n",
    "from keras.preprocessing.text import Tokenizer\n",
    "from keras.preprocessing.sequence import pad_sequences"
   ]
  },
  {
   "cell_type": "code",
   "execution_count": 2,
   "metadata": {},
   "outputs": [
    {
     "data": {
      "text/html": [
       "<div>\n",
       "<style scoped>\n",
       "    .dataframe tbody tr th:only-of-type {\n",
       "        vertical-align: middle;\n",
       "    }\n",
       "\n",
       "    .dataframe tbody tr th {\n",
       "        vertical-align: top;\n",
       "    }\n",
       "\n",
       "    .dataframe thead th {\n",
       "        text-align: right;\n",
       "    }\n",
       "</style>\n",
       "<table border=\"1\" class=\"dataframe\">\n",
       "  <thead>\n",
       "    <tr style=\"text-align: right;\">\n",
       "      <th></th>\n",
       "      <th>text</th>\n",
       "      <th>pasal</th>\n",
       "    </tr>\n",
       "  </thead>\n",
       "  <tbody>\n",
       "    <tr>\n",
       "      <th>0</th>\n",
       "      <td>Pak A sering pegang pegang tangan, kadang pega...</td>\n",
       "      <td>1</td>\n",
       "    </tr>\n",
       "    <tr>\n",
       "      <th>1</th>\n",
       "      <td>lama lama dia tarik tanganku baru baring di pa...</td>\n",
       "      <td>1</td>\n",
       "    </tr>\n",
       "    <tr>\n",
       "      <th>2</th>\n",
       "      <td>pake jilbab syar'i dan gapernah sentuhan sama ...</td>\n",
       "      <td>0</td>\n",
       "    </tr>\n",
       "    <tr>\n",
       "      <th>3</th>\n",
       "      <td>saya ditarik\" hampir masuk di ruangannya dosen...</td>\n",
       "      <td>1</td>\n",
       "    </tr>\n",
       "    <tr>\n",
       "      <th>4</th>\n",
       "      <td>saat mengajar dia mendekati teman saya dengan ...</td>\n",
       "      <td>1</td>\n",
       "    </tr>\n",
       "  </tbody>\n",
       "</table>\n",
       "</div>"
      ],
      "text/plain": [
       "                                                text  pasal\n",
       "0  Pak A sering pegang pegang tangan, kadang pega...      1\n",
       "1  lama lama dia tarik tanganku baru baring di pa...      1\n",
       "2  pake jilbab syar'i dan gapernah sentuhan sama ...      0\n",
       "3  saya ditarik\" hampir masuk di ruangannya dosen...      1\n",
       "4  saat mengajar dia mendekati teman saya dengan ...      1"
      ]
     },
     "execution_count": 2,
     "metadata": {},
     "output_type": "execute_result"
    }
   ],
   "source": [
    "data = pd.read_csv('Dataset.csv')\n",
    "data.head()"
   ]
  },
  {
   "cell_type": "code",
   "execution_count": 3,
   "metadata": {},
   "outputs": [],
   "source": [
    "from Sastrawi.Stemmer.StemmerFactory import StemmerFactory\n",
    "from Sastrawi.StopWordRemover.StopWordRemoverFactory import StopWordRemoverFactory\n",
    "\n",
    "factory = StemmerFactory()\n",
    "stemmer_factory = factory.create_stemmer()\n",
    "factory = StopWordRemoverFactory()\n",
    "stopword_factory = factory.create_stop_word_remover()\n",
    "def preprocessing(word):\n",
    "    steaming = stemmer_factory.stem(word)\n",
    "    finish = stopword_factory.remove(steaming)\n",
    "    return finish\n",
    "\n",
    "data.text = data.text.map(preprocessing)\n"
   ]
  },
  {
   "cell_type": "code",
   "execution_count": 4,
   "metadata": {},
   "outputs": [],
   "source": [
    "x = data['text']\n",
    "y = data['pasal']\n"
   ]
  },
  {
   "cell_type": "code",
   "execution_count": 5,
   "metadata": {},
   "outputs": [],
   "source": [
    "X_train, X_test, y_train, y_test = train_test_split(x, y, test_size=0.5, random_state=42)"
   ]
  },
  {
   "cell_type": "code",
   "execution_count": 6,
   "metadata": {},
   "outputs": [],
   "source": [
    "vocab_size = 10000\n",
    "embedding_dim = 16\n",
    "max_length = 1000\n",
    "trunc_type = 'post'\n",
    "padding_type = 'post'\n",
    "oov_token = '<OOV>'"
   ]
  },
  {
   "cell_type": "code",
   "execution_count": 7,
   "metadata": {},
   "outputs": [],
   "source": [
    "tokenizer = Tokenizer(num_words=vocab_size, oov_token=oov_token)\n",
    "tokenizer.fit_on_texts(x)\n",
    "\n",
    "word_index = tokenizer.word_index\n",
    "\n",
    "training_sequences = tokenizer.texts_to_sequences(X_train)\n",
    "testing_sequences = tokenizer.texts_to_sequences(X_test)\n",
    "\n",
    "training_padding = pad_sequences(training_sequences, maxlen=max_length, padding=padding_type, truncating=trunc_type)\n",
    "testing_padding = pad_sequences(testing_sequences, maxlen=max_length, padding=padding_type, truncating=trunc_type)\n",
    "\n",
    "training_padding = np.array(training_padding)\n",
    "training_labels = np.array(y_train)\n",
    "\n",
    "testing_padding = np.array(testing_padding)\n",
    "testing_labels = np.array(y_test)\n",
    "\n",
    "\n"
   ]
  },
  {
   "cell_type": "code",
   "execution_count": 15,
   "metadata": {},
   "outputs": [
    {
     "name": "stdout",
     "output_type": "stream",
     "text": [
      "Model: \"sequential_2\"\n",
      "_________________________________________________________________\n",
      " Layer (type)                Output Shape              Param #   \n",
      "=================================================================\n",
      " embedding_2 (Embedding)     (None, 1000, 16)          160000    \n",
      "                                                                 \n",
      " global_average_pooling1d_2   (None, 16)               0         \n",
      " (GlobalAveragePooling1D)                                        \n",
      "                                                                 \n",
      " dense_5 (Dense)             (None, 64)                1088      \n",
      "                                                                 \n",
      " dense_6 (Dense)             (None, 1)                 65        \n",
      "                                                                 \n",
      "=================================================================\n",
      "Total params: 161,153\n",
      "Trainable params: 161,153\n",
      "Non-trainable params: 0\n",
      "_________________________________________________________________\n"
     ]
    }
   ],
   "source": [
    "model = tf.keras.Sequential([\n",
    "    tf.keras.layers.Embedding(vocab_size, embedding_dim, input_length=max_length),\n",
    "    tf.keras.layers.GlobalAveragePooling1D(),\n",
    "    tf.keras.layers.Dense(64, activation='softmax'),\n",
    "    tf.keras.layers.Dense(1, activation='sigmoid')\n",
    "])\n",
    "\n",
    "model.summary()"
   ]
  },
  {
   "cell_type": "code",
   "execution_count": 16,
   "metadata": {},
   "outputs": [
    {
     "name": "stdout",
     "output_type": "stream",
     "text": [
      "Epoch 1/50\n",
      "42/42 - 1s - loss: 0.6387 - accuracy: 0.7143 - val_loss: 0.6470 - val_accuracy: 0.6512 - 1s/epoch - 31ms/step\n",
      "Epoch 2/50\n",
      "42/42 - 0s - loss: 0.5945 - accuracy: 0.7381 - val_loss: 0.6522 - val_accuracy: 0.6512 - 258ms/epoch - 6ms/step\n",
      "Epoch 3/50\n",
      "42/42 - 0s - loss: 0.5860 - accuracy: 0.7381 - val_loss: 0.6605 - val_accuracy: 0.6512 - 266ms/epoch - 6ms/step\n",
      "Epoch 4/50\n",
      "42/42 - 0s - loss: 0.5838 - accuracy: 0.7381 - val_loss: 0.6671 - val_accuracy: 0.6512 - 253ms/epoch - 6ms/step\n",
      "Epoch 5/50\n",
      "42/42 - 1s - loss: 0.5843 - accuracy: 0.7381 - val_loss: 0.6624 - val_accuracy: 0.6512 - 625ms/epoch - 15ms/step\n",
      "Epoch 6/50\n",
      "42/42 - 0s - loss: 0.5845 - accuracy: 0.7381 - val_loss: 0.6611 - val_accuracy: 0.6512 - 261ms/epoch - 6ms/step\n",
      "Epoch 7/50\n",
      "42/42 - 0s - loss: 0.5846 - accuracy: 0.7381 - val_loss: 0.6603 - val_accuracy: 0.6512 - 367ms/epoch - 9ms/step\n",
      "Epoch 8/50\n",
      "42/42 - 0s - loss: 0.5844 - accuracy: 0.7381 - val_loss: 0.6660 - val_accuracy: 0.6512 - 311ms/epoch - 7ms/step\n",
      "Epoch 9/50\n",
      "42/42 - 0s - loss: 0.5842 - accuracy: 0.7381 - val_loss: 0.6628 - val_accuracy: 0.6512 - 342ms/epoch - 8ms/step\n",
      "Epoch 10/50\n",
      "42/42 - 0s - loss: 0.5840 - accuracy: 0.7381 - val_loss: 0.6620 - val_accuracy: 0.6512 - 264ms/epoch - 6ms/step\n",
      "Epoch 11/50\n",
      "42/42 - 0s - loss: 0.5845 - accuracy: 0.7381 - val_loss: 0.6614 - val_accuracy: 0.6512 - 267ms/epoch - 6ms/step\n",
      "Epoch 12/50\n",
      "42/42 - 0s - loss: 0.5840 - accuracy: 0.7381 - val_loss: 0.6613 - val_accuracy: 0.6512 - 320ms/epoch - 8ms/step\n",
      "Epoch 13/50\n",
      "42/42 - 0s - loss: 0.5845 - accuracy: 0.7381 - val_loss: 0.6658 - val_accuracy: 0.6512 - 333ms/epoch - 8ms/step\n",
      "Epoch 14/50\n",
      "42/42 - 0s - loss: 0.5842 - accuracy: 0.7381 - val_loss: 0.6618 - val_accuracy: 0.6512 - 265ms/epoch - 6ms/step\n",
      "Epoch 15/50\n",
      "42/42 - 0s - loss: 0.5844 - accuracy: 0.7381 - val_loss: 0.6652 - val_accuracy: 0.6512 - 260ms/epoch - 6ms/step\n",
      "Epoch 16/50\n",
      "42/42 - 0s - loss: 0.5798 - accuracy: 0.7381 - val_loss: 0.6562 - val_accuracy: 0.6512 - 260ms/epoch - 6ms/step\n",
      "Epoch 17/50\n",
      "42/42 - 0s - loss: 0.5851 - accuracy: 0.7381 - val_loss: 0.6575 - val_accuracy: 0.6512 - 302ms/epoch - 7ms/step\n",
      "Epoch 18/50\n",
      "42/42 - 0s - loss: 0.5844 - accuracy: 0.7381 - val_loss: 0.6619 - val_accuracy: 0.6512 - 267ms/epoch - 6ms/step\n",
      "Epoch 19/50\n",
      "42/42 - 0s - loss: 0.5847 - accuracy: 0.7381 - val_loss: 0.6627 - val_accuracy: 0.6512 - 260ms/epoch - 6ms/step\n",
      "Epoch 20/50\n",
      "42/42 - 0s - loss: 0.5843 - accuracy: 0.7381 - val_loss: 0.6609 - val_accuracy: 0.6512 - 263ms/epoch - 6ms/step\n",
      "Epoch 21/50\n",
      "42/42 - 0s - loss: 0.5849 - accuracy: 0.7381 - val_loss: 0.6631 - val_accuracy: 0.6512 - 402ms/epoch - 10ms/step\n",
      "Epoch 22/50\n",
      "42/42 - 0s - loss: 0.5845 - accuracy: 0.7381 - val_loss: 0.6648 - val_accuracy: 0.6512 - 243ms/epoch - 6ms/step\n",
      "Epoch 23/50\n",
      "42/42 - 0s - loss: 0.5846 - accuracy: 0.7381 - val_loss: 0.6634 - val_accuracy: 0.6512 - 272ms/epoch - 6ms/step\n",
      "Epoch 24/50\n",
      "42/42 - 0s - loss: 0.5835 - accuracy: 0.7381 - val_loss: 0.6704 - val_accuracy: 0.6512 - 271ms/epoch - 6ms/step\n",
      "Epoch 25/50\n",
      "42/42 - 1s - loss: 0.5832 - accuracy: 0.7381 - val_loss: 0.6630 - val_accuracy: 0.6512 - 530ms/epoch - 13ms/step\n",
      "Epoch 26/50\n",
      "42/42 - 0s - loss: 0.5839 - accuracy: 0.7381 - val_loss: 0.6603 - val_accuracy: 0.6512 - 260ms/epoch - 6ms/step\n",
      "Epoch 27/50\n",
      "42/42 - 0s - loss: 0.5843 - accuracy: 0.7381 - val_loss: 0.6639 - val_accuracy: 0.6512 - 263ms/epoch - 6ms/step\n",
      "Epoch 28/50\n",
      "42/42 - 0s - loss: 0.5846 - accuracy: 0.7381 - val_loss: 0.6632 - val_accuracy: 0.6512 - 259ms/epoch - 6ms/step\n",
      "Epoch 29/50\n",
      "42/42 - 0s - loss: 0.5847 - accuracy: 0.7381 - val_loss: 0.6649 - val_accuracy: 0.6512 - 276ms/epoch - 7ms/step\n",
      "Epoch 30/50\n",
      "42/42 - 0s - loss: 0.5838 - accuracy: 0.7381 - val_loss: 0.6612 - val_accuracy: 0.6512 - 274ms/epoch - 7ms/step\n",
      "Epoch 31/50\n",
      "42/42 - 0s - loss: 0.5845 - accuracy: 0.7381 - val_loss: 0.6629 - val_accuracy: 0.6512 - 301ms/epoch - 7ms/step\n",
      "Epoch 32/50\n",
      "42/42 - 0s - loss: 0.5803 - accuracy: 0.7381 - val_loss: 0.6744 - val_accuracy: 0.6512 - 277ms/epoch - 7ms/step\n",
      "Epoch 33/50\n",
      "42/42 - 0s - loss: 0.5847 - accuracy: 0.7381 - val_loss: 0.6671 - val_accuracy: 0.6512 - 321ms/epoch - 8ms/step\n",
      "Epoch 34/50\n",
      "42/42 - 0s - loss: 0.5838 - accuracy: 0.7381 - val_loss: 0.6692 - val_accuracy: 0.6512 - 272ms/epoch - 6ms/step\n",
      "Epoch 35/50\n",
      "42/42 - 0s - loss: 0.5845 - accuracy: 0.7381 - val_loss: 0.6652 - val_accuracy: 0.6512 - 291ms/epoch - 7ms/step\n",
      "Epoch 36/50\n",
      "42/42 - 0s - loss: 0.5842 - accuracy: 0.7381 - val_loss: 0.6644 - val_accuracy: 0.6512 - 293ms/epoch - 7ms/step\n",
      "Epoch 37/50\n",
      "42/42 - 0s - loss: 0.5846 - accuracy: 0.7381 - val_loss: 0.6671 - val_accuracy: 0.6512 - 496ms/epoch - 12ms/step\n",
      "Epoch 38/50\n",
      "42/42 - 1s - loss: 0.5839 - accuracy: 0.7381 - val_loss: 0.6624 - val_accuracy: 0.6512 - 576ms/epoch - 14ms/step\n",
      "Epoch 39/50\n",
      "42/42 - 0s - loss: 0.5835 - accuracy: 0.7381 - val_loss: 0.6587 - val_accuracy: 0.6512 - 344ms/epoch - 8ms/step\n",
      "Epoch 40/50\n",
      "42/42 - 0s - loss: 0.5833 - accuracy: 0.7381 - val_loss: 0.6562 - val_accuracy: 0.6512 - 359ms/epoch - 9ms/step\n",
      "Epoch 41/50\n",
      "42/42 - 0s - loss: 0.5852 - accuracy: 0.7381 - val_loss: 0.6619 - val_accuracy: 0.6512 - 403ms/epoch - 10ms/step\n",
      "Epoch 42/50\n",
      "42/42 - 0s - loss: 0.5841 - accuracy: 0.7381 - val_loss: 0.6597 - val_accuracy: 0.6512 - 367ms/epoch - 9ms/step\n",
      "Epoch 43/50\n",
      "42/42 - 1s - loss: 0.5845 - accuracy: 0.7381 - val_loss: 0.6625 - val_accuracy: 0.6512 - 585ms/epoch - 14ms/step\n",
      "Epoch 44/50\n",
      "42/42 - 1s - loss: 0.5840 - accuracy: 0.7381 - val_loss: 0.6598 - val_accuracy: 0.6512 - 524ms/epoch - 12ms/step\n",
      "Epoch 45/50\n",
      "42/42 - 0s - loss: 0.5841 - accuracy: 0.7381 - val_loss: 0.6593 - val_accuracy: 0.6512 - 421ms/epoch - 10ms/step\n",
      "Epoch 46/50\n",
      "42/42 - 1s - loss: 0.5837 - accuracy: 0.7381 - val_loss: 0.6673 - val_accuracy: 0.6512 - 551ms/epoch - 13ms/step\n",
      "Epoch 47/50\n",
      "42/42 - 0s - loss: 0.5847 - accuracy: 0.7381 - val_loss: 0.6676 - val_accuracy: 0.6512 - 360ms/epoch - 9ms/step\n",
      "Epoch 48/50\n",
      "42/42 - 0s - loss: 0.5843 - accuracy: 0.7381 - val_loss: 0.6654 - val_accuracy: 0.6512 - 327ms/epoch - 8ms/step\n",
      "Epoch 49/50\n",
      "42/42 - 0s - loss: 0.5840 - accuracy: 0.7381 - val_loss: 0.6617 - val_accuracy: 0.6512 - 336ms/epoch - 8ms/step\n",
      "Epoch 50/50\n",
      "42/42 - 0s - loss: 0.5839 - accuracy: 0.7381 - val_loss: 0.6666 - val_accuracy: 0.6512 - 321ms/epoch - 8ms/step\n"
     ]
    }
   ],
   "source": [
    "opt = tf.keras.optimizers.SGD(learning_rate=0.1)\n",
    "model.compile(loss='binary_crossentropy', optimizer=opt, metrics=['accuracy'])\n",
    "\n",
    "num_epochs = 50\n",
    "history = model.fit(training_padding, training_labels, epochs=num_epochs, batch_size=1,validation_data=(testing_padding, testing_labels), verbose=2)"
   ]
  },
  {
   "cell_type": "code",
   "execution_count": 19,
   "metadata": {},
   "outputs": [
    {
     "data": {
      "image/png": "[encoded data removed]",
      "text/plain": [
       "<Figure size 432x288 with 1 Axes>"
      ]
     },
     "metadata": {
      "needs_background": "light"
     },
     "output_type": "display_data"
    }
   ],
   "source": [
    "plt.plot(history.history['loss'])\n",
    "plt.plot(history.history['val_loss'])\n",
    "plt.title('model loss')\n",
    "plt.ylabel('loss')\n",
    "plt.xlabel('epoch')\n",
    "plt.legend(['train', 'test'], loc='upper left')\n",
    "plt.show()"
   ]
  },
  {
   "cell_type": "code",
   "execution_count": 20,
   "metadata": {},
   "outputs": [
    {
     "data": {
      "image/png": "[encoded data removed]",
      "text/plain": [
       "<Figure size 432x288 with 1 Axes>"
      ]
     },
     "metadata": {
      "needs_background": "light"
     },
     "output_type": "display_data"
    }
   ],
   "source": [
    "plt.plot(history.history['accuracy'])\n",
    "plt.plot(history.history['val_accuracy'])\n",
    "plt.title('model accuracy')\n",
    "plt.ylabel('acc')\n",
    "plt.xlabel('epoch')\n",
    "plt.legend(['train', 'test'], loc='upper left')\n",
    "plt.show()"
   ]
  },
  {
   "cell_type": "code",
   "execution_count": 10,
   "metadata": {},
   "outputs": [
    {
     "name": "stdout",
     "output_type": "stream",
     "text": [
      "[[1.]]\n"
     ]
    }
   ],
   "source": [
    "sentence =[\"kemarin aku di kereta ada yang pegang-pegang tangan ku, pas udh lama malah dia makin parah malah pegang-pegang pantat ku\"]\n",
    "sequences = tokenizer.texts_to_sequences(sentence)\n",
    "padded = pad_sequences(sequences, maxlen=max_length, padding=padding_type, truncating=trunc_type)\n",
    "print(np.rint(model.predict(padded)))"
   ]
  },
  {
   "cell_type": "code",
   "execution_count": 43,
   "metadata": {},
   "outputs": [],
   "source": [
    "model.save('model.h5')"
   ]
  }
 ],
 "metadata": {
  "kernelspec": {
   "display_name": "Python 3.8.10 64-bit",
   "language": "python",
   "name": "python3"
  },
  "language_info": {
   "codemirror_mode": {
    "name": "ipython",
    "version": 3
   },
   "file_extension": ".py",
   "mimetype": "text/x-python",
   "name": "python",
   "nbconvert_exporter": "python",
   "pygments_lexer": "ipython3",
   "version": "3.8.10"
  },
  "orig_nbformat": 4,
  "vscode": {
   "interpreter": {
    "hash": "916dbcbb3f70747c44a77c7bcd40155683ae19c65e1c03b4aa3499c5328201f1"
   }
  }
 },
 "nbformat": 4,
 "nbformat_minor": 2
}
